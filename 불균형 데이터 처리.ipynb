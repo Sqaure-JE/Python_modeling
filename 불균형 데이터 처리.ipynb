{
 "cells": [
  {
   "cell_type": "code",
   "execution_count": null,
   "id": "8eef4959",
   "metadata": {},
   "outputs": [],
   "source": [
    "!pip install imbalanced-learn"
   ]
  },
  {
   "cell_type": "code",
   "execution_count": null,
   "id": "8c9d1c6d",
   "metadata": {},
   "outputs": [],
   "source": [
    "# 필요한 라이브러리와 모듈 임포트\n",
    "import numpy as np\n",
    "from sklearn.datasets import make_classification\n",
    "from sklearn.model_selection import train_test_split, RandomizedSearchCV\n",
    "from imblearn.over_sampling import SMOTE\n",
    "from imblearn.under_sampling import TomekLinks\n",
    "from lightgbm import LGBMClassifier\n",
    "from sklearn.metrics import classification_report, roc_auc_score\n",
    "from sklearn.neighbors import KNeighborsClassifier\n",
    "from sklearn.neural_network import MLPClassifier\n",
    "from sklearn.linear_model import LogisticRegression\n",
    "from sklearn.ensemble import RandomForestClassifier, GradientBoostingClassifier\n",
    "from xgboost import XGBClassifier\n",
    "from tqdm import tqdm\n",
    "import time\n",
    "\n",
    "# 불균형한 데이터셋 생성\n",
    "X, y = make_classification(\n",
    "    n_classes=2, class_sep=1.5, weights=[.99, .01],\n",
    "    n_informative=3, n_redundant=1, flip_y=0,\n",
    "    n_features=20, n_clusters_per_class=1, n_samples=2000, random_state=10\n",
    ")\n",
    "\n",
    "# 학습 데이터와 테스트 데이터 분할\n",
    "X_train, X_test, y_train, y_test = train_test_split(X, y, test_size=0.2, random_state=0)\n",
    "\n",
    "# SMOTE로 오버샘플링 후 Tomek Links로 언더샘플링\n",
    "smote = SMOTE(random_state=0)\n",
    "X_smote, y_smote = smote.fit_resample(X_train, y_train)\n",
    "tomek = TomekLinks()\n",
    "X_train_res, y_train_res = tomek.fit_resample(X_smote, y_smote)\n",
    "\n",
    "# 모델과 하이퍼파라미터 목록\n",
    "clfs = [\n",
    "    (KNeighborsClassifier(), {'n_neighbors': [3,5,7,9,11], 'weights': ['uniform','distance']}),\n",
    "    (MLPClassifier(random_state=0), {'batch_size': [32, 64, 128], 'learning_rate' : ['constant', 'adaptive'], 'activation': ['tanh', 'relu'], 'solver': ['sgd', 'adam']}),\n",
    "    (LogisticRegression(random_state=0), {'C': np.arange(0.1, 1.1, 0.1), 'penalty': ['l1','l2']}),\n",
    "    (RandomForestClassifier(random_state=0), {'n_estimators': [100,200,300], 'max_depth': [3,4,5]}),\n",
    "    (GradientBoostingClassifier(random_state=0), {'n_estimators': [100, 200, 300], 'learning_rate': [1, 0.1, 0.01]}),\n",
    "    (XGBClassifier(tree_method = 'hist', random_state=0), {'min_child_weight': range(0, 121, 20), 'learning_rate': np.arange(0.1, 0.6, 0.1), 'subsample': np.arange(0.5, 1.0, 0.1)}),\n",
    "    (LGBMClassifier(random_state=0), {'min_child_weight': range(0, 121, 20), 'learning_rate': np.arange(0.1, 0.6, 0.1), 'subsample': np.arange(0.5, 1.0, 0.1)}),\n",
    "]\n",
    "\n",
    "clfs_tuned = []  # 최적화된 모델 저장할 곳\n",
    "\n",
    "# 모든 모델에 대해 랜덤하게 하이퍼파라미터 검색\n",
    "for clf, param_grid in tqdm(clfs):\n",
    "    start = time.time()  # 시작 시간 저장\n",
    "    # 랜덤하게 하이퍼파라미터 검색\n",
    "    rand_search = RandomizedSearchCV(clf, param_grid, n_iter=5, scoring='roc_auc', \n",
    "                                     cv=3, random_state=0, n_jobs=-1)\n",
    "    rand_search.fit(X_train_res, y_train_res)\n",
    "    clf_name = type(clf).__name__  # 모델 이름\n",
    "    clf_score = rand_search.score(X_test, y_test)  # 점수\n",
    "    print(f'{clf_name:30} {clf_score:30f} {time.time() - start:.1f}초')  # 출력\n",
    "    clfs_tuned.append((clf_name, rand_search, clf_score))  # 저장\n"
   ]
  },
  {
   "cell_type": "code",
   "execution_count": null,
   "id": "4bd08fdf",
   "metadata": {},
   "outputs": [],
   "source": []
  }
 ],
 "metadata": {
  "kernelspec": {
   "display_name": "Python 3 (ipykernel)",
   "language": "python",
   "name": "python3"
  },
  "language_info": {
   "codemirror_mode": {
    "name": "ipython",
    "version": 3
   },
   "file_extension": ".py",
   "mimetype": "text/x-python",
   "name": "python",
   "nbconvert_exporter": "python",
   "pygments_lexer": "ipython3",
   "version": "3.9.12"
  }
 },
 "nbformat": 4,
 "nbformat_minor": 5
}
