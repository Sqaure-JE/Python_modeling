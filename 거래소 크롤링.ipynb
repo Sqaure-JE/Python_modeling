{
 "cells": [
  {
   "cell_type": "code",
   "execution_count": 12,
   "id": "48c91f5e",
   "metadata": {},
   "outputs": [],
   "source": [
    "import re\n",
    "import requests\n",
    "import lxml.html\n",
    "import pandas as pd"
   ]
  },
  {
   "cell_type": "code",
   "execution_count": 13,
   "id": "f19f470e",
   "metadata": {},
   "outputs": [],
   "source": [
    "URLS =[ 'https://www.findatamall.or.kr/fsec/dataProd/generalDataProd.do?cmnx=44&sCharge=charge&sFree=free&sNego=nego&searchType=00&sKeyword=%EC%9A%B0%EB%A6%AC%EC%B9%B4%EB%93%9C&sTaxonomy=200&sOrderByType=orderByDate&sAvailableBuy=&maxCharge=&minCharge=&page={}', 'https://www.findatamall.or.kr/fsec/dataProd/generalDataProd.do?cmnx=44&sCharge=charge&sFree=free&sNego=nego&searchType=00&sKeyword=%EB%86%8D%ED%98%91%EC%9D%80%ED%96%89&sTaxonomy=200&sOrderByType=orderByDate&sAvailableBuy=&maxCharge=&minCharge=&page={}',\n",
    "'https://www.findatamall.or.kr/fsec/dataProd/generalDataProd.do?cmnx=44&sCharge=charge&sFree=free&sNego=nego&searchType=00&sKeyword=%EC%8B%A0%ED%95%9C%EC%B9%B4%EB%93%9C&sTaxonomy=200&sOrderByType=orderByDate&sAvailableBuy=&maxCharge=&minCharge=&page={}' , 'https://www.findatamall.or.kr/fsec/dataProd/generalDataProd.do?cmnx=44&sCharge=charge&sFree=free&sNego=nego&searchType=00&sKeyword=%EC%82%BC%EC%84%B1%EC%B9%B4%EB%93%9C&sTaxonomy=200&sOrderByType=orderByDate&sAvailableBuy=&maxCharge=&minCharge=&page={}', 'https://www.findatamall.or.kr/fsec/dataProd/generalDataProd.do?cmnx=44&sCharge=charge&sFree=free&sNego=nego&searchType=00&sKeyword=%EA%B5%AD%EB%AF%BC%EC%B9%B4%EB%93%9C&sTaxonomy=200&sOrderByType=orderByDate&sAvailableBuy=&maxCharge=&minCharge=&page={}',  'https://www.findatamall.or.kr/fsec/dataProd/generalDataProd.do?cmnx=44&sCharge=charge&sFree=free&sNego=nego&searchType=00&sKeyword=%EB%B9%84%EC%94%A8%EC%B9%B4%EB%93%9C&sTaxonomy=200&sOrderByType=orderByDate&sAvailableBuy=&maxCharge=&minCharge=&page={}',  'https://www.findatamall.or.kr/fsec/dataProd/generalDataProd.do?cmnx=44&sCharge=charge&sFree=free&sNego=nego&searchType=00&sKeyword=%EB%A1%AF%EB%8D%B0%EC%B9%B4%EB%93%9C&sTaxonomy=200&sOrderByType=orderByDate&sAvailableBuy=&maxCharge=&minCharge=&page={}', 'https://www.findatamall.or.kr/fsec/dataProd/generalDataProd.do?cmnx=44&sCharge=charge&sFree=free&sNego=nego&searchType=00&sKeyword=%ED%95%98%EB%82%98%EC%B9%B4%EB%93%9C&sTaxonomy=200&sOrderByType=orderByDate&sAvailableBuy=&maxCharge=&minCharge=&page={}',  'https://www.findatamall.or.kr/fsec/dataProd/generalDataProd.do?cmnx=44&sCharge=charge&sFree=free&sNego=nego&searchType=00&sKeyword=%ED%98%84%EB%8C%80%EC%B9%B4%EB%93%9C&sTaxonomy=200&sOrderByType=orderByDate&sAvailableBuy=&maxCharge=&minCharge=&page={}',\n",
    "'https://www.findatamall.or.kr/fsec/dataProd/generalResearchProd.do?cmnx=103&sCharge=charge&sFree=free&sNego=nego&searchType=00&sKeyword=%EC%9A%B0%EB%A6%AC%EC%B9%B4%EB%93%9C&sTaxonomy=200&sOrderByType=orderByDate&sAvailableBuy=&maxCharge=&minCharge=&page={}', 'https://www.findatamall.or.kr/fsec/dataProd/generalResearchProd.do?cmnx=103&sCharge=charge&sFree=free&sNego=nego&searchType=00&sKeyword=%EB%86%8D%ED%98%91%EC%9D%80%ED%96%89&sTaxonomy=200&sOrderByType=orderByDate&sAvailableBuy=&maxCharge=&minCharge=&page={}',\n",
    "'https://www.findatamall.or.kr/fsec/dataProd/generalResearchProd.do?cmnx=103&sCharge=charge&sFree=free&sNego=nego&searchType=00&sKeyword=%EC%8B%A0%ED%95%9C%EC%B9%B4%EB%93%9C&sTaxonomy=200&sOrderByType=orderByDate&sAvailableBuy=&maxCharge=&minCharge=&page={}' , 'https://www.findatamall.or.kr/fsec/dataProd/generalResearchProd.do?cmnx=103&sCharge=charge&sFree=free&sNego=nego&searchType=00&sKeyword=%EC%82%BC%EC%84%B1%EC%B9%B4%EB%93%9C&sTaxonomy=200&sOrderByType=orderByDate&sAvailableBuy=&maxCharge=&minCharge=&page={}', 'https://www.findatamall.or.kr/fsec/dataProd/generalResearchProd.do?cmnx=103&sCharge=charge&sFree=free&sNego=nego&searchType=00&sKeyword=%EA%B5%AD%EB%AF%BC%EC%B9%B4%EB%93%9C&sTaxonomy=200&sOrderByType=orderByDate&sAvailableBuy=&maxCharge=&minCharge=&page={}',  \n",
    "'https://www.findatamall.or.kr/fsec/dataProd/generalResearchProd.do?cmnx=103&sCharge=charge&sFree=free&sNego=nego&searchType=00&sKeyword=%EB%B9%84%EC%94%A8%EC%B9%B4%EB%93%9C&sTaxonomy=200&sOrderByType=orderByDate&sAvailableBuy=&maxCharge=&minCharge=&page={}',  'https://www.findatamall.or.kr/fsec/dataProd/generalResearchProd.do?cmnx=103&sCharge=charge&sFree=free&sNego=nego&searchType=00&sKeyword=%EB%A1%AF%EB%8D%B0%EC%B9%B4%EB%93%9C&sTaxonomy=200&sOrderByType=orderByDate&sAvailableBuy=&maxCharge=&minCharge=&page={}',\n",
    "'https://www.findatamall.or.kr/fsec/dataProd/generalResearchProd.do?cmnx=103&sCharge=charge&sFree=free&sNego=nego&searchType=00&sKeyword=%ED%95%98%EB%82%98%EC%B9%B4%EB%93%9C&sTaxonomy=200&sOrderByType=orderByDate&sAvailableBuy=&maxCharge=&minCharge=&page={}',  \n",
    "'https://www.findatamall.or.kr/fsec/dataProd/generalResearchProd.do?cmnx=103&sCharge=charge&sFree=free&sNego=nego&searchType=00&sKeyword=%ED%98%84%EB%8C%80%EC%B9%B4%EB%93%9C&sTaxonomy=200&sOrderByType=orderByDate&sAvailableBuy=&maxCharge=&minCharge=&page={}' ]\n"
   ]
  },
  {
   "cell_type": "code",
   "execution_count": 14,
   "id": "ac062dee",
   "metadata": {},
   "outputs": [],
   "source": [
    "dfs = []\n",
    "\n",
    "for url in URLS:\n",
    "\n",
    "    data = []\n",
    "    for page in range(1, 100, 1):\n",
    "        res = requests.get(url.format(page))\n",
    "        root = lxml.html.fromstring(res.text)\n",
    "    \n",
    "        names = root.cssselect('p.title') # 데이터명\n",
    "        summarys = root.cssselect('p.summary') # 요약\n",
    "        dates= root.cssselect('div.meta-wrap.mobile-date') # 등록일자\n",
    "        prices= root.cssselect('div.data-listview-action') # 가격\n",
    "    \n",
    "        for name,  summary, date,  price   in zip(names, summarys, dates,  prices) : \n",
    "            content = name.text_content()\n",
    "            content = content.strip()\n",
    "            content = re.sub(r'\\s+', ' ', content)\n",
    "            content1 = summary.text_content()\n",
    "            content1 = content1.strip()\n",
    "            content1 = re.sub(r'\\s+', ' ', content1)\n",
    "            content2 = date.text_content()\n",
    "            content2 = content2.strip()\n",
    "            content2 = re.sub(r'\\s+', ' ', content2)\n",
    "            content3 =  price.text_content()\n",
    "            content3 = content3.strip()\n",
    "            content3= re.sub(r'\\s+', ' ', content3)\n",
    "            data.append((content, content1,content2, content3))\n",
    "        \n",
    "    df = pd.DataFrame(data, columns=['name', 'summary', 'date', 'price'])\n",
    "    dfs.append(df)\n",
    "\n",
    "final_df = pd.concat(dfs)\n",
    "final_df.to_excel('금융데이터거래소_카드사.xlsx')"
   ]
  },
  {
   "cell_type": "code",
   "execution_count": null,
   "id": "1573b8d7",
   "metadata": {},
   "outputs": [],
   "source": []
  },
  {
   "cell_type": "code",
   "execution_count": null,
   "id": "b64d1c47",
   "metadata": {},
   "outputs": [],
   "source": []
  }
 ],
 "metadata": {
  "kernelspec": {
   "display_name": "Python 3 (ipykernel)",
   "language": "python",
   "name": "python3"
  },
  "language_info": {
   "codemirror_mode": {
    "name": "ipython",
    "version": 3
   },
   "file_extension": ".py",
   "mimetype": "text/x-python",
   "name": "python",
   "nbconvert_exporter": "python",
   "pygments_lexer": "ipython3",
   "version": "3.9.12"
  }
 },
 "nbformat": 4,
 "nbformat_minor": 5
}
